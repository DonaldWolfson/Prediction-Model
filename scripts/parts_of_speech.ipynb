{
 "cells": [
  {
   "cell_type": "markdown",
   "metadata": {},
   "source": [
    "# Visualize the Frequencies of Parts of Speech for Top 5 Subreddit Submissions\n",
    "\n",
    "This script will utilize Natural Language Processing to visualize the Parts of Speech of the top 5 subreddits' submission titles."
   ]
  },
  {
   "cell_type": "code",
   "execution_count": 1,
   "metadata": {},
   "outputs": [],
   "source": [
    "import gzip\n",
    "import json\n",
    "import nltk\n",
    "from csv import DictReader\n",
    "import matplotlib.pyplot as plt\n",
    "from collections import defaultdict\n",
    "from nltk.tokenize import word_tokenize"
   ]
  },
  {
   "cell_type": "code",
   "execution_count": 2,
   "metadata": {},
   "outputs": [
    {
     "name": "stderr",
     "output_type": "stream",
     "text": [
      "[nltk_data] Downloading package punkt to /Users/dwolfson/nltk_data...\n",
      "[nltk_data]   Package punkt is already up-to-date!\n",
      "[nltk_data] Downloading package averaged_perceptron_tagger to\n",
      "[nltk_data]     /Users/dwolfson/nltk_data...\n",
      "[nltk_data]   Package averaged_perceptron_tagger is already up-to-\n",
      "[nltk_data]       date!\n"
     ]
    },
    {
     "data": {
      "text/plain": [
       "True"
      ]
     },
     "execution_count": 2,
     "metadata": {},
     "output_type": "execute_result"
    }
   ],
   "source": [
    "# Download a few needed packages for the nltk \n",
    "nltk.download('punkt')\n",
    "nltk.download('averaged_perceptron_tagger')"
   ]
  },
  {
   "cell_type": "code",
   "execution_count": 3,
   "metadata": {},
   "outputs": [],
   "source": [
    "data = []"
   ]
  },
  {
   "cell_type": "code",
   "execution_count": 4,
   "metadata": {},
   "outputs": [],
   "source": [
    "# Open and store each post as a list of dict elements\n",
    "with gzip.open('../data/top_posts.csv.gz', 'rt') as file:\n",
    "    csv_reader = DictReader(file)\n",
    "    \n",
    "    for row in csv_reader:\n",
    "        data.append(row)"
   ]
  },
  {
   "cell_type": "code",
   "execution_count": 5,
   "metadata": {},
   "outputs": [],
   "source": [
    "# Open and store the top subreddits (pre-sorted) as a list\n",
    "with open('../data/top_subreddits.json', 'r') as file:\n",
    "    top_subreddits = json.loads(file.read())\n",
    "    top_subreddits = list(top_subreddits.keys())\n",
    "    top_subreddits = top_subreddits[:5]"
   ]
  },
  {
   "cell_type": "code",
   "execution_count": 6,
   "metadata": {},
   "outputs": [],
   "source": [
    "# Maps a subreddit to all of its top posts' titles concatenated together \n",
    "titles = defaultdict(str)\n",
    "\n",
    "# Maps a subreddit the frequencies of each Part of Speech\n",
    "frequencies = defaultdict(lambda: defaultdict(int))"
   ]
  },
  {
   "cell_type": "code",
   "execution_count": 7,
   "metadata": {},
   "outputs": [],
   "source": [
    "for datum in data:\n",
    "    # Edge Case: Skip posts that are no in the top 5 subreddits\n",
    "    if datum['subreddit'] not in top_subreddits:\n",
    "        continue\n",
    "    \n",
    "    titles[datum['subreddit']] += datum['title'] + \" \""
   ]
  },
  {
   "cell_type": "code",
   "execution_count": 8,
   "metadata": {},
   "outputs": [],
   "source": [
    "# Setup the strings to be used in NLP\n",
    "for subreddit in top_subreddits:\n",
    "    # Tokenize Each Word\n",
    "    words = word_tokenize(titles[subreddit])\n",
    "    \n",
    "    # Turns each word into a tuple with its value and Part of Speech\n",
    "    parts_of_speech = nltk.pos_tag(words)\n",
    "    \n",
    "    # Count the frequencies of each Part of Speech generalizing to 7 categories\n",
    "    for pair in parts_of_speech:\n",
    "        if pair[1].startswith(\"JJ\"):\n",
    "            frequencies[subreddit][\"Adjectives\"] += 1\n",
    "        elif pair[1].startswith(\"NN\"):\n",
    "            frequencies[subreddit][\"Nouns\"] += 1\n",
    "        elif pair[1].startswith(\"RB\"):\n",
    "            frequencies[subreddit][\"Adverbs\"] += 1\n",
    "        elif pair[1].startswith(\"PRP\"):\n",
    "            frequencies[subreddit][\"Pronouns\"] += 1\n",
    "        elif pair[1].startswith(\"VB\"):\n",
    "                frequencies[subreddit][\"Verbs\"] += 1\n",
    "        elif pair[1].startswith(\"DT\"):\n",
    "            frequencies[subreddit][\"Determiners\"] += 1\n",
    "        else:\n",
    "            frequencies[subreddit][\"Others\"] += 1\n",
    "    \n",
    "    # Sort the frequencies\n",
    "    frequencies[subreddit] = dict(sorted(frequencies[subreddit].items(), \n",
    "                                    key=lambda item: item[1], \n",
    "                                    reverse=True\n",
    "                                ))"
   ]
  },
  {
   "cell_type": "code",
   "execution_count": 22,
   "metadata": {},
   "outputs": [],
   "source": [
    "# Get the width of each bar\n",
    "bar_width = 1\n",
    "\n",
    "# Get the subreddits as a list\n",
    "subreddits = list(frequencies.keys())\n",
    "\n",
    "# Store keys in a specific order\n",
    "keys = ['Nouns', 'Verbs', 'Adjectives', 'Pronouns', 'Adverbs', 'Determiners', 'Others']\n",
    "\n",
    "# Get the frequencies for each key as a list\n",
    "reddit1 = [ frequencies[subreddits[0]][key] for key in keys ]\n",
    "reddit2 = [ frequencies[subreddits[1]][key] for key in keys ]\n",
    "reddit3 = [ frequencies[subreddits[2]][key] for key in keys ]\n",
    "reddit4 = [ frequencies[subreddits[3]][key] for key in keys ]\n",
    "reddit5 = [ frequencies[subreddits[4]][key] for key in keys ]"
   ]
  },
  {
   "cell_type": "code",
   "execution_count": 23,
   "metadata": {},
   "outputs": [],
   "source": [
    "# Set position of bar on X axis\n",
    "r1 = range(len(reddit1))\n",
    "r2 = [x + bar_width for x in r1]\n",
    "r3 = [x + bar_width for x in r2]\n",
    "r4 = [x + bar_width for x in r3]\n",
    "r5 = [x + bar_width for x in r4]"
   ]
  },
  {
   "cell_type": "code",
   "execution_count": 25,
   "metadata": {},
   "outputs": [
    {
     "ename": "NameError",
     "evalue": "name 'bars1' is not defined",
     "output_type": "error",
     "traceback": [
      "\u001b[0;31m---------------------------------------------------------------------------\u001b[0m",
      "\u001b[0;31mNameError\u001b[0m                                 Traceback (most recent call last)",
      "\u001b[0;32m/var/folders/1q/d9zd33jj4n9ctg9s1wkpg4nr0000gp/T/ipykernel_34046/2552602721.py\u001b[0m in \u001b[0;36m<module>\u001b[0;34m\u001b[0m\n\u001b[1;32m      8\u001b[0m \u001b[0;31m# Add xticks on the middle of the group bars\u001b[0m\u001b[0;34m\u001b[0m\u001b[0;34m\u001b[0m\u001b[0m\n\u001b[1;32m      9\u001b[0m \u001b[0mplt\u001b[0m\u001b[0;34m.\u001b[0m\u001b[0mxlabel\u001b[0m\u001b[0;34m(\u001b[0m\u001b[0;34m'group'\u001b[0m\u001b[0;34m,\u001b[0m \u001b[0mfontweight\u001b[0m\u001b[0;34m=\u001b[0m\u001b[0;34m'bold'\u001b[0m\u001b[0;34m)\u001b[0m\u001b[0;34m\u001b[0m\u001b[0;34m\u001b[0m\u001b[0m\n\u001b[0;32m---> 10\u001b[0;31m \u001b[0mplt\u001b[0m\u001b[0;34m.\u001b[0m\u001b[0mxticks\u001b[0m\u001b[0;34m(\u001b[0m\u001b[0;34m[\u001b[0m\u001b[0mr\u001b[0m \u001b[0;34m+\u001b[0m \u001b[0mbar_width\u001b[0m \u001b[0;32mfor\u001b[0m \u001b[0mr\u001b[0m \u001b[0;32min\u001b[0m \u001b[0mrange\u001b[0m\u001b[0;34m(\u001b[0m\u001b[0mlen\u001b[0m\u001b[0;34m(\u001b[0m\u001b[0mbars1\u001b[0m\u001b[0;34m)\u001b[0m\u001b[0;34m)\u001b[0m\u001b[0;34m]\u001b[0m\u001b[0;34m,\u001b[0m \u001b[0;34m[\u001b[0m\u001b[0;34m'A'\u001b[0m\u001b[0;34m,\u001b[0m \u001b[0;34m'B'\u001b[0m\u001b[0;34m,\u001b[0m \u001b[0;34m'C'\u001b[0m\u001b[0;34m,\u001b[0m \u001b[0;34m'D'\u001b[0m\u001b[0;34m,\u001b[0m \u001b[0;34m'E'\u001b[0m\u001b[0;34m]\u001b[0m\u001b[0;34m)\u001b[0m\u001b[0;34m\u001b[0m\u001b[0;34m\u001b[0m\u001b[0m\n\u001b[0m\u001b[1;32m     11\u001b[0m \u001b[0;34m\u001b[0m\u001b[0m\n\u001b[1;32m     12\u001b[0m \u001b[0;31m# Create legend & Show graphic\u001b[0m\u001b[0;34m\u001b[0m\u001b[0;34m\u001b[0m\u001b[0m\n",
      "\u001b[0;31mNameError\u001b[0m: name 'bars1' is not defined"
     ]
    },
    {
     "data": {
      "image/png": "[encoded data removed]",
      "text/plain": [
       "<Figure size 432x288 with 1 Axes>"
      ]
     },
     "metadata": {
      "needs_background": "light"
     },
     "output_type": "display_data"
    }
   ],
   "source": [
    "# Make the plot\n",
    "plt.bar(r1, reddit1, width=bar_width, edgecolor='white', label=f\"r/{subreddits[0]}\")\n",
    "plt.bar(r2, reddit2, width=bar_width, edgecolor='white', label=f\"r/{subreddits[1]}\")\n",
    "plt.bar(r3, reddit3, width=bar_width, edgecolor='white', label=f\"r/{subreddits[2]}\")\n",
    "plt.bar(r4, reddit4, width=bar_width, edgecolor='white', label=f\"r/{subreddits[3]}\")\n",
    "plt.bar(r5, reddit5, width=bar_width, edgecolor='white', label=f\"r/{subreddits[4]}\")\n",
    " \n",
    "# Add xticks on the middle of the group bars\n",
    "plt.xlabel('group', fontweight='bold')\n",
    "plt.xticks([r + bar_width for r in range(len(reddit1))], keys)\n",
    " \n",
    "# Create legend & Show graphic\n",
    "plt.legend()\n",
    "plt.show()"
   ]
  }
 ],
 "metadata": {
  "interpreter": {
   "hash": "aee8b7b246df8f9039afb4144a1f6fd8d2ca17a180786b69acc140d282b71a49"
  },
  "kernelspec": {
   "display_name": "Python 3.9.7 64-bit",
   "language": "python",
   "name": "python3"
  },
  "language_info": {
   "codemirror_mode": {
    "name": "ipython",
    "version": 3
   },
   "file_extension": ".py",
   "mimetype": "text/x-python",
   "name": "python",
   "nbconvert_exporter": "python",
   "pygments_lexer": "ipython3",
   "version": "3.9.7"
  },
  "orig_nbformat": 4
 },
 "nbformat": 4,
 "nbformat_minor": 2
}
