{
 "cells": [
  {
   "cell_type": "markdown",
   "metadata": {},
   "source": [
    "# Get the top subreddits by subscriber count\n",
    "Data From: 2021-11-19\n",
    "\n",
    "Data Source: https://frontpagemetrics.com/list-all-subreddits\n",
    "\n",
    "New Data Stored In: top_subreddits.json"
   ]
  },
  {
   "cell_type": "code",
   "execution_count": 11,
   "metadata": {},
   "outputs": [],
   "source": [
    "import gzip\n",
    "from csv import reader\n",
    "from collections import defaultdict"
   ]
  },
  {
   "cell_type": "code",
   "execution_count": 12,
   "metadata": {},
   "outputs": [],
   "source": [
    "# Will map a subreddit to its popularity\n",
    "subreddit_popularity = defaultdict(int)\n",
    "\n",
    "# The total amount of subreddits that will be returned\n",
    "n = 500"
   ]
  },
  {
   "cell_type": "code",
   "execution_count": 13,
   "metadata": {},
   "outputs": [],
   "source": [
    "# Open the subreddit popularity data\n",
    "with gzip.open(\"../data/2021-11-19.csv.gz\", \"rt\", errors=\"ignore\") as read_obj:\n",
    "    # pass the file object to reader() to get the reader object\n",
    "    csv_reader = reader(read_obj)\n",
    "    \n",
    "    # Skip the header\n",
    "    next(csv_reader)\n",
    "    \n",
    "    # Iterate over each row in the csv using reader object\n",
    "    for row in csv_reader:\n",
    "        subreddit = row[0]\n",
    "        subscribers = row[-1]\n",
    "        \n",
    "        subreddit_popularity[subreddit] = subscribers"
   ]
  },
  {
   "cell_type": "code",
   "execution_count": 14,
   "metadata": {},
   "outputs": [],
   "source": [
    "# Sort the subreddits by their subscriber count\n",
    "subreddit_popularity = sorted(subreddit_popularity.items(), key=lambda x: int(x[1]), reverse=True)"
   ]
  },
  {
   "cell_type": "code",
   "execution_count": 15,
   "metadata": {},
   "outputs": [],
   "source": [
    "file = open(\"../data/top_subreddits.json\", \"w\")\n",
    "file.write(\"{\\n\")\n",
    "\n",
    "for i, subreddit in enumerate(subreddit_popularity[:n]):\n",
    "    if i < (n - 1):\n",
    "        file.write(\"\\t\\\"{}\\\":{},\\n\".format(subreddit[0], subreddit[1]))\n",
    "    else:\n",
    "        file.write(\"\\t\\\"{}\\\":{}\\n\".format(subreddit[0], subreddit[1]))\n",
    "        \n",
    "file.write(\"}\\n\")\n",
    "file.close()"
   ]
  }
 ],
 "metadata": {
  "interpreter": {
   "hash": "aee8b7b246df8f9039afb4144a1f6fd8d2ca17a180786b69acc140d282b71a49"
  },
  "kernelspec": {
   "display_name": "Python 3.9.7 64-bit",
   "language": "python",
   "name": "python3"
  },
  "language_info": {
   "codemirror_mode": {
    "name": "ipython",
    "version": 3
   },
   "file_extension": ".py",
   "mimetype": "text/x-python",
   "name": "python",
   "nbconvert_exporter": "python",
   "pygments_lexer": "ipython3",
   "version": "3.9.7"
  },
  "orig_nbformat": 4
 },
 "nbformat": 4,
 "nbformat_minor": 2
}
