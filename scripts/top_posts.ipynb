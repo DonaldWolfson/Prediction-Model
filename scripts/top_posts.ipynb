{
 "cells": [
  {
   "cell_type": "markdown",
   "metadata": {},
   "source": [
    "# Get The Top Posts From The Top Subreddits\n",
    "Get the up to the top 500 posts of the past year from the top 500 public subreddits and store their metadata as a CSV. This does include NSFW posts.\n",
    "\n",
    "Data Stored In: top_posts.csv"
   ]
  },
  {
   "cell_type": "code",
   "execution_count": 1,
   "metadata": {},
   "outputs": [],
   "source": [
    "import praw\n",
    "import json\n",
    "from config import *\n",
    "from csv import writer"
   ]
  },
  {
   "cell_type": "code",
   "execution_count": 2,
   "metadata": {},
   "outputs": [],
   "source": [
    "# Open and store the top subreddits as a list\n",
    "with open('../data/top_subreddits.json', 'r') as file:\n",
    "    top_subreddits = json.loads(file.read())\n",
    "    top_subreddits = list(top_subreddits.keys())"
   ]
  },
  {
   "cell_type": "code",
   "execution_count": 3,
   "metadata": {},
   "outputs": [],
   "source": [
    "# Initialize PRAW API\n",
    "reddit = praw.Reddit(\n",
    "    client_id=CLIENT_ID,\n",
    "    client_secret=CLIENT_SECRET,\n",
    "    user_agent=USER_AGENT,\n",
    "    username=REDDIT_USERNAME,\n",
    "    password=REDDIT_PASSWORD,\n",
    ")"
   ]
  },
  {
   "cell_type": "code",
   "execution_count": 4,
   "metadata": {},
   "outputs": [],
   "source": [
    "# Store the metadata of each submission in a list\n",
    "metadata = []"
   ]
  },
  {
   "cell_type": "markdown",
   "metadata": {},
   "source": [
    "## Values that will be stored per submission (in order):\n",
    "* unixtime,\n",
    "* title,\n",
    "* total_votes,\n",
    "* reddit_id,\n",
    "* number_of_upvotes,\n",
    "* subreddit,\n",
    "* number_of_downvotes,\n",
    "* score,\n",
    "* number_of_comments,\n",
    "* username"
   ]
  },
  {
   "cell_type": "code",
   "execution_count": 5,
   "metadata": {},
   "outputs": [],
   "source": [
    "header = [ 'unixtime', 'title', 'total_votes', 'reddit_id', 'number_of_upvotes',\n",
    "          'subreddit', 'number_of_downvotes', 'score', 'number_of_comments', \n",
    "          'username' ]"
   ]
  },
  {
   "cell_type": "code",
   "execution_count": 6,
   "metadata": {},
   "outputs": [],
   "source": [
    "with open('../data/top_posts.csv', 'w') as file:\n",
    "    # Create the CSV writer\n",
    "    writer = writer(file)\n",
    "    \n",
    "    writer.writerow(header)\n",
    "    \n",
    "    for subreddit in top_subreddits:\n",
    "        try:\n",
    "            for submission in reddit.subreddit(subreddit).top('year', limit=500):\n",
    "                data = []\n",
    "                \n",
    "                # Get the upvotes, downvotes, and total votes\n",
    "                upvotes = submission.score\n",
    "                upvote_ratio = submission.upvote_ratio\n",
    "                if upvote_ratio < 1:\n",
    "                    upvote_ratio = upvote_ratio * 100\n",
    "                else:\n",
    "                    upvote_ratio = 100\n",
    "                downvotes =  int((upvotes*100)/(upvote_ratio) - upvotes)\n",
    "                \n",
    "                total_votes = upvotes + downvotes\n",
    "                \n",
    "                # Get the score (the award)\n",
    "                score = 0\n",
    "                for reward in submission.all_awardings:\n",
    "                    try:\n",
    "                        score += reward['coin_price'] * reward['count']\n",
    "                    except:\n",
    "                        pass\n",
    "                    \n",
    "                # Get the correct dates and times\n",
    "                unix_time_utc = submission.created_utc\n",
    "                \n",
    "                # unixtime\n",
    "                data.append(submission.created_utc)\n",
    "                # title\n",
    "                data.append(submission.title)\n",
    "                # total_votes\n",
    "                data.append(total_votes)\n",
    "                # reddit_id\n",
    "                data.append(submission.id)\n",
    "                # number_of_upvotes\n",
    "                data.append(upvotes)\n",
    "                # subreddit\n",
    "                data.append(subreddit)\n",
    "                # number_of_downvotes\n",
    "                data.append(downvotes)\n",
    "                # score\n",
    "                data.append(score)\n",
    "                # number_of_comments\n",
    "                data.append(submission.num_comments)\n",
    "                # username\n",
    "                try:\n",
    "                    data.append(submission.author.name)\n",
    "                except:\n",
    "                    data.append(None)\n",
    "                \n",
    "                # Write this row to the output file\n",
    "                writer.writerow(data)\n",
    "        except:\n",
    "            print(\"Subreddit fully/partially skipped: r/{}\".format(subreddit))"
   ]
  }
 ],
 "metadata": {
  "interpreter": {
   "hash": "aee8b7b246df8f9039afb4144a1f6fd8d2ca17a180786b69acc140d282b71a49"
  },
  "kernelspec": {
   "display_name": "Python 3.9.7 64-bit",
   "language": "python",
   "name": "python3"
  },
  "language_info": {
   "codemirror_mode": {
    "name": "ipython",
    "version": 3
   },
   "file_extension": ".py",
   "mimetype": "text/x-python",
   "name": "python",
   "nbconvert_exporter": "python",
   "pygments_lexer": "ipython3",
   "version": "3.9.7"
  },
  "orig_nbformat": 4
 },
 "nbformat": 4,
 "nbformat_minor": 2
}
