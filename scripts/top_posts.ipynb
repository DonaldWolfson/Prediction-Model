{
 "cells": [
  {
   "cell_type": "markdown",
   "metadata": {},
   "source": [
    "# Get The Top Posts From The Top Subreddits\n",
    "Get the top 200 posts of the past year from the top 500 subreddits and store their metadata as a CSV.\n",
    "\n",
    "Data Stored In: top_posts.csv"
   ]
  },
  {
   "cell_type": "code",
   "execution_count": 1,
   "metadata": {},
   "outputs": [],
   "source": [
    "import praw\n",
    "import json\n",
    "from config import *\n",
    "from csv import writer\n",
    "from datetime import datetime\n",
    "from prawcore.exceptions import Forbidden"
   ]
  },
  {
   "cell_type": "code",
   "execution_count": 2,
   "metadata": {},
   "outputs": [],
   "source": [
    "# Open and store the top subreddits as a list\n",
    "with open('../data/top_subreddits.json', 'r') as file:\n",
    "    top_subreddits = json.loads(file.read())\n",
    "    top_subreddits = list(top_subreddits.keys())"
   ]
  },
  {
   "cell_type": "code",
   "execution_count": 3,
   "metadata": {},
   "outputs": [],
   "source": [
    "# Initialize PRAW API\n",
    "reddit = praw.Reddit(\n",
    "    client_id=CLIENT_ID,\n",
    "    client_secret=CLIENT_SECRET,\n",
    "    user_agent=USER_AGENT,\n",
    "    username=REDDIT_USERNAME,\n",
    "    password=REDDIT_PASSWORD,\n",
    ")"
   ]
  },
  {
   "cell_type": "code",
   "execution_count": 4,
   "metadata": {},
   "outputs": [],
   "source": [
    "# import pprint\n",
    "# # assume you have a Reddit instance bound to variable `reddit`\n",
    "# submission = reddit.submission(url='https://www.reddit.com/r/wallstreetbets/comments/qyth8s/this_is_how_you_invest/')\n",
    "# print(submission.title)  # to make it non-lazy\n",
    "# pprint.pprint(vars(submission))"
   ]
  },
  {
   "cell_type": "code",
   "execution_count": 5,
   "metadata": {},
   "outputs": [],
   "source": [
    "# Store the metadata of each submission in a list\n",
    "metadata = []"
   ]
  },
  {
   "cell_type": "markdown",
   "metadata": {},
   "source": [
    "## Values that will be stored per submission (in order):\n",
    "* image_id,\n",
    "* unixtime,\n",
    "* rawtime,\n",
    "* title,\n",
    "* total_votes,\n",
    "* reddit_id,\n",
    "* number_of_upvotes,\n",
    "* subreddit,\n",
    "* number_of_downvotes,\n",
    "* localtime,\n",
    "* score,\n",
    "* number_of_comments,\n",
    "* username"
   ]
  },
  {
   "cell_type": "code",
   "execution_count": 6,
   "metadata": {},
   "outputs": [
    {
     "name": "stdout",
     "output_type": "stream",
     "text": [
      "BlackPeopleTwitter\n",
      "ImGoingToHellForThis\n"
     ]
    }
   ],
   "source": [
    "for subreddit in top_subreddits:\n",
    "    try:\n",
    "        for submission in reddit.subreddit(subreddit).top('year', limit=5):\n",
    "            data = []\n",
    "            \n",
    "            # Get the upvotes, downvotes, and total votes\n",
    "            upvotes = submission.score\n",
    "            upvote_ratio = submission.upvote_ratio\n",
    "            if upvote_ratio < 1:\n",
    "                upvote_ratio = upvote_ratio * 100\n",
    "            else:\n",
    "                upvote_ratio = 100\n",
    "            downvotes =  int((upvotes*100)/(upvote_ratio) - upvotes)\n",
    "            \n",
    "            total_votes = upvotes + downvotes\n",
    "            \n",
    "            # Get the score (the award)\n",
    "            score = 0\n",
    "            for reward in submission.all_awardings:\n",
    "                try:\n",
    "                    score += reward.coin_price * reward.count\n",
    "                except:\n",
    "                    pass\n",
    "                \n",
    "            # Get the correct dates and times\n",
    "            unix_time_utc = submission.created_utc\n",
    "            raw_time = datetime.utcfromtimestamp(unix_time_utc).strftime('%Y-%m-%d%H:%M:%S')\n",
    "            local_time = datetime.fromtimestamp(unix_time_utc).strftime('%Y-%m-%d%H:%M:%S')\n",
    "            \n",
    "            # image_id\n",
    "            try:\n",
    "                data.append(submission.preview.images[0].id)\n",
    "            except:\n",
    "                data.append(0)\n",
    "            # unixtime\n",
    "            data.append(submission.created_utc)\n",
    "            # rawtime\n",
    "            data.append(raw_time)\n",
    "            # title\n",
    "            data.append(submission.title)\n",
    "            # total_votes\n",
    "            data.append(total_votes)\n",
    "            # reddit_id\n",
    "            data.append(submission.id)\n",
    "            # number_of_upvotes\n",
    "            data.append(upvotes)\n",
    "            # subreddit\n",
    "            data.append(subreddit)\n",
    "            # number_of_downvotes\n",
    "            data.append(downvotes)\n",
    "            # localtime\n",
    "            data.append(local_time)\n",
    "            # score\n",
    "            data.append(score)\n",
    "            # number_of_comments\n",
    "            data.append(submission.num_comments)\n",
    "            # username\n",
    "            try:\n",
    "                data.append(submission.author.name)\n",
    "            except:\n",
    "                data.append(None)\n",
    "            \n",
    "            # Append this row to the CSV\n",
    "            metadata.append(data)\n",
    "    except Forbidden:\n",
    "        print(\"Subreddit Partially or Fully Skipped: {}\".format(subreddit))"
   ]
  },
  {
   "cell_type": "code",
   "execution_count": 7,
   "metadata": {},
   "outputs": [],
   "source": [
    "header = [ 'image_id', 'unixtime', 'rawtime', 'title', 'total_votes', \n",
    "          'reddit_id', 'number_of_upvotes', 'subreddit', 'number_of_downvotes',\n",
    "          'localtime', 'score', 'number_of_comments', 'username' ]\n",
    "\n",
    "with open('../data/top_posts.csv', 'w') as file:\n",
    "    # Create the CSV writer\n",
    "    writer = writer(file)\n",
    "    \n",
    "    writer.writerow(header)\n",
    "    \n",
    "    for row in metadata:\n",
    "        writer.writerow(row)"
   ]
  }
 ],
 "metadata": {
  "interpreter": {
   "hash": "aee8b7b246df8f9039afb4144a1f6fd8d2ca17a180786b69acc140d282b71a49"
  },
  "kernelspec": {
   "display_name": "Python 3.9.7 64-bit",
   "language": "python",
   "name": "python3"
  },
  "language_info": {
   "codemirror_mode": {
    "name": "ipython",
    "version": 3
   },
   "file_extension": ".py",
   "mimetype": "text/x-python",
   "name": "python",
   "nbconvert_exporter": "python",
   "pygments_lexer": "ipython3",
   "version": "3.9.7"
  },
  "orig_nbformat": 4
 },
 "nbformat": 4,
 "nbformat_minor": 2
}
