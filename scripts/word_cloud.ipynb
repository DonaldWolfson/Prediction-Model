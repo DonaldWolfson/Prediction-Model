{
 "cells": [
  {
   "cell_type": "markdown",
   "metadata": {},
   "source": [
    "# Top 5 Subreddit Word Cloudes\n",
    "\n",
    "This script will parse the `top_posts.csv.gz` file, and create wordclouds based on their titles. These visuals will be stored as PNG's in the `images` folder."
   ]
  },
  {
   "cell_type": "code",
   "execution_count": 1,
   "metadata": {},
   "outputs": [],
   "source": [
    "import gzip\n",
    "import json\n",
    "from csv import DictReader\n",
    "from wordcloud import WordCloud\n",
    "import matplotlib.pyplot as plt\n",
    "from collections import defaultdict"
   ]
  },
  {
   "cell_type": "code",
   "execution_count": 2,
   "metadata": {},
   "outputs": [],
   "source": [
    "data = []"
   ]
  },
  {
   "cell_type": "code",
   "execution_count": 3,
   "metadata": {},
   "outputs": [],
   "source": [
    "# Open and store each post as a list of dict elements\n",
    "with gzip.open('../data/top_posts.csv.gz', 'rt') as file:\n",
    "    csv_reader = DictReader(file)\n",
    "    \n",
    "    for row in csv_reader:\n",
    "        data.append(row)"
   ]
  },
  {
   "cell_type": "code",
   "execution_count": 4,
   "metadata": {},
   "outputs": [],
   "source": [
    "# Open and store the top subreddits (pre-sorted) as a list\n",
    "with open('../data/top_subreddits.json', 'r') as file:\n",
    "    top_subreddits = json.loads(file.read())\n",
    "    top_subreddits = list(top_subreddits.keys())"
   ]
  },
  {
   "cell_type": "code",
   "execution_count": 5,
   "metadata": {},
   "outputs": [
    {
     "name": "stdout",
     "output_type": "stream",
     "text": [
      "Number of Data Points: 246,472\n"
     ]
    }
   ],
   "source": [
    "print(f\"Number of Data Points: {format(len(data), ',')}\")"
   ]
  },
  {
   "cell_type": "code",
   "execution_count": 6,
   "metadata": {},
   "outputs": [
    {
     "name": "stdout",
     "output_type": "stream",
     "text": [
      "Keys in each Data Point: ['unixtime', 'title', 'total_votes', 'reddit_id', 'number_of_upvotes', 'subreddit', 'number_of_downvotes', 'score', 'number_of_comments', 'username']\n"
     ]
    }
   ],
   "source": [
    "print(f\"Keys in each Data Point: {list(data[0].keys())}\")"
   ]
  },
  {
   "cell_type": "code",
   "execution_count": 7,
   "metadata": {},
   "outputs": [
    {
     "name": "stdout",
     "output_type": "stream",
     "text": [
      "Top 5 Subreddits: ['funny', 'AskReddit', 'gaming', 'aww', 'Music']\n"
     ]
    }
   ],
   "source": [
    "print(f\"Top 5 Subreddits: {top_subreddits[:5]}\")"
   ]
  },
  {
   "cell_type": "code",
   "execution_count": 8,
   "metadata": {},
   "outputs": [],
   "source": [
    "# Store all titles\n",
    "top_5_wordclouds = defaultdict(str)\n",
    "top_5_subreddits = top_subreddits[:5]"
   ]
  },
  {
   "cell_type": "code",
   "execution_count": 9,
   "metadata": {},
   "outputs": [],
   "source": [
    "for datum in data:\n",
    "    # Edge Case: Skip posts that are no in the top 5 subreddits\n",
    "    if datum['subreddit'] not in top_5_subreddits:\n",
    "        continue\n",
    "    \n",
    "    top_5_wordclouds[datum['subreddit']] += datum['title'] + \" \""
   ]
  },
  {
   "cell_type": "code",
   "execution_count": 10,
   "metadata": {},
   "outputs": [],
   "source": [
    "# Generate word clouds for each of the top 5 subreddits\n",
    "for subreddit in top_5_wordclouds:\n",
    "    text = top_5_wordclouds[subreddit]\n",
    "    \n",
    "    file_path = f\"../images/wordcloud_{subreddit}.png\"\n",
    "    \n",
    "    # Generate a word cloud image\n",
    "    wordcloud = WordCloud(\n",
    "        color_func=lambda *args, **kwargs: \"black\",\n",
    "        background_color=None,\n",
    "        min_word_length=2,\n",
    "        height=400,\n",
    "        width=800,\n",
    "        mode=\"RGBA\",\n",
    "        scale=2\n",
    "    ).generate(text)\n",
    "    \n",
    "    plt.imshow(wordcloud, interpolation='bilinear')\n",
    "    plt.axis(\"off\")\n",
    "    plt.savefig(\n",
    "        file_path,\n",
    "        transparent=True,\n",
    "        dpi=300,\n",
    "        bbox_inches='tight'\n",
    "    )\n",
    "    plt.close()"
   ]
  }
 ],
 "metadata": {
  "interpreter": {
   "hash": "aee8b7b246df8f9039afb4144a1f6fd8d2ca17a180786b69acc140d282b71a49"
  },
  "kernelspec": {
   "display_name": "Python 3.9.7 64-bit",
   "language": "python",
   "name": "python3"
  },
  "language_info": {
   "codemirror_mode": {
    "name": "ipython",
    "version": 3
   },
   "file_extension": ".py",
   "mimetype": "text/x-python",
   "name": "python",
   "nbconvert_exporter": "python",
   "pygments_lexer": "ipython3",
   "version": "3.9.7"
  },
  "orig_nbformat": 4
 },
 "nbformat": 4,
 "nbformat_minor": 2
}
