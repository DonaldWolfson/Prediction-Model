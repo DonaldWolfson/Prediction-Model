{
 "cells": [
  {
   "cell_type": "markdown",
   "metadata": {},
   "source": [
    "# Get The Top Subreddits By Subscriber Count\n",
    "\n",
    "The top Subreddits does not include any that are private/quarantined. This does include NSFW subreddits.\n",
    "\n",
    "Data:\n",
    "* From: 2021-11-19\n",
    "* Source: https://frontpagemetrics.com/list-all-subreddits\n",
    "\n",
    "New Data Stored In: top_subreddits.json"
   ]
  },
  {
   "cell_type": "code",
   "execution_count": 1,
   "metadata": {},
   "outputs": [],
   "source": [
    "import gzip\n",
    "import praw\n",
    "from config import *\n",
    "from csv import reader\n",
    "from collections import defaultdict\n",
    "from prawcore.exceptions import Forbidden"
   ]
  },
  {
   "cell_type": "code",
   "execution_count": 2,
   "metadata": {},
   "outputs": [],
   "source": [
    "# Will map a subreddit to its popularity\n",
    "subreddit_popularity = defaultdict(int)\n",
    "\n",
    "# The total amount of subreddits that will be returned\n",
    "n = 500"
   ]
  },
  {
   "cell_type": "code",
   "execution_count": 3,
   "metadata": {},
   "outputs": [],
   "source": [
    "# Open the subreddit popularity data\n",
    "with gzip.open(\"../data/2021-11-19.csv.gz\", \"rt\", errors=\"ignore\") as read_obj:\n",
    "    # pass the file object to reader() to get the reader object\n",
    "    csv_reader = reader(read_obj)\n",
    "    \n",
    "    # Skip the header\n",
    "    next(csv_reader)\n",
    "    \n",
    "    # Iterate over each row in the csv using reader object\n",
    "    for row in csv_reader:\n",
    "        subreddit = row[0]\n",
    "        subscribers = row[-1]\n",
    "        \n",
    "        subreddit_popularity[subreddit] = subscribers"
   ]
  },
  {
   "cell_type": "code",
   "execution_count": 4,
   "metadata": {},
   "outputs": [],
   "source": [
    "# Sort the subreddits by their subscriber count\n",
    "subreddit_popularity = sorted(subreddit_popularity.items(), key=lambda x: int(x[1]), reverse=True)"
   ]
  },
  {
   "cell_type": "code",
   "execution_count": 5,
   "metadata": {},
   "outputs": [],
   "source": [
    "# Initialize PRAW API\n",
    "reddit = praw.Reddit(\n",
    "    client_id=CLIENT_ID,\n",
    "    client_secret=CLIENT_SECRET,\n",
    "    user_agent=USER_AGENT,\n",
    "    username=REDDIT_USERNAME,\n",
    "    password=REDDIT_PASSWORD,\n",
    ")"
   ]
  },
  {
   "cell_type": "code",
   "execution_count": 6,
   "metadata": {},
   "outputs": [
    {
     "name": "stdout",
     "output_type": "stream",
     "text": [
      "Locked/Quarantined Subreddit: BlackPeopleTwitter\n",
      "Locked/Quarantined Subreddit: ImGoingToHellForThis\n"
     ]
    }
   ],
   "source": [
    "# Remove any private subreddits from the list\n",
    "remove_list = []\n",
    "\n",
    "# Only remove subreddits until n public subreddits are in the top\n",
    "m = 0\n",
    "\n",
    "for i in range(len(subreddit_popularity)):\n",
    "    # Edge Case: Stop once n amount of subreddits are in the top\n",
    "    if m == n:\n",
    "        break\n",
    "\n",
    "    subreddit = subreddit_popularity[i][0]\n",
    "    \n",
    "    # Edge Case: Remove r/announcements due to barely 5 posts this year\n",
    "    if subreddit == \"announcements\":\n",
    "        remove_list.append(i)\n",
    "        continue\n",
    "    \n",
    "    # Try to find subreddits that are locked/quarantined\n",
    "    try:\n",
    "        for submission in reddit.subreddit(subreddit).top('year', limit=5):\n",
    "            pass\n",
    "        m += 1\n",
    "    except Forbidden:\n",
    "        print(\"Locked/Quarantined Subreddit: {}\".format(subreddit))\n",
    "        remove_list.append(i)"
   ]
  },
  {
   "cell_type": "code",
   "execution_count": null,
   "metadata": {},
   "outputs": [],
   "source": [
    "for i in remove_list:\n",
    "    subreddit_popularity.pop(i)"
   ]
  },
  {
   "cell_type": "code",
   "execution_count": null,
   "metadata": {},
   "outputs": [],
   "source": [
    "file = open(\"../data/top_subreddits.json\", \"w\")\n",
    "file.write(\"{\\n\")\n",
    "\n",
    "for i, subreddit in enumerate(subreddit_popularity[:n]):\n",
    "    if i < (n - 1):\n",
    "        file.write(\"\\t\\\"{}\\\":{},\\n\".format(subreddit[0], subreddit[1]))\n",
    "    else:\n",
    "        file.write(\"\\t\\\"{}\\\":{}\\n\".format(subreddit[0], subreddit[1]))\n",
    "        \n",
    "file.write(\"}\\n\")\n",
    "file.close()"
   ]
  }
 ],
 "metadata": {
  "interpreter": {
   "hash": "aee8b7b246df8f9039afb4144a1f6fd8d2ca17a180786b69acc140d282b71a49"
  },
  "kernelspec": {
   "display_name": "Python 3.9.7 64-bit",
   "language": "python",
   "name": "python3"
  },
  "language_info": {
   "codemirror_mode": {
    "name": "ipython",
    "version": 3
   },
   "file_extension": ".py",
   "mimetype": "text/x-python",
   "name": "python",
   "nbconvert_exporter": "python",
   "pygments_lexer": "ipython3",
   "version": "3.9.7"
  },
  "orig_nbformat": 4
 },
 "nbformat": 4,
 "nbformat_minor": 2
}
